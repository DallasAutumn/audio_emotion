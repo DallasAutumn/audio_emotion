{
 "cells": [
  {
   "cell_type": "code",
   "execution_count": 6,
   "metadata": {
    "ExecuteTime": {
     "end_time": "2019-10-04T03:05:46.850052Z",
     "start_time": "2019-10-04T03:05:46.615780Z"
    }
   },
   "outputs": [
    {
     "data": {
      "text/plain": [
       "['.git',\n",
       " '.ipynb_checkpoints',\n",
       " '.vscode',\n",
       " '001.wav',\n",
       " 'baseline.md',\n",
       " 'librosa_tutorial.ipynb',\n",
       " 'models.py',\n",
       " 'README.md',\n",
       " 'test.ipynb',\n",
       " 'test.py',\n",
       " 'torchaudio_tutorial.ipynb']"
      ]
     },
     "execution_count": 6,
     "metadata": {},
     "output_type": "execute_result"
    }
   ],
   "source": [
    "import librosa\n",
    "import librosa.display as lrdisplay\n",
    "import matplotlib.pyplot as plt\n",
    "import os\n",
    "\n",
    "os.listdir(os.getcwd())"
   ]
  },
  {
   "cell_type": "code",
   "execution_count": 10,
   "metadata": {
    "ExecuteTime": {
     "end_time": "2019-10-04T03:10:58.815432Z",
     "start_time": "2019-10-04T03:10:58.673568Z"
    }
   },
   "outputs": [],
   "source": [
    "filename = './001.wav'\n",
    "\n",
    "y, sr = librosa.load(filename)\n",
    "\n",
    "mfcc = librosa.feature.mfcc(y=y, sr=sr, n_mfcc=26)"
   ]
  },
  {
   "cell_type": "code",
   "execution_count": 15,
   "metadata": {
    "ExecuteTime": {
     "end_time": "2019-10-04T03:19:16.664482Z",
     "start_time": "2019-10-04T03:19:16.482727Z"
    }
   },
   "outputs": [
    {
     "data": {
      "image/png": "[encoded data removed]",
      "text/plain": [
       "<Figure size 720x288 with 2 Axes>"
      ]
     },
     "metadata": {
      "needs_background": "light"
     },
     "output_type": "display_data"
    }
   ],
   "source": [
    "plt.figure(figsize=(10, 4))\n",
    "librosa.display.specshow(mfcc, x_axis='time')\n",
    "plt.colorbar()\n",
    "plt.title('MFCC')\n",
    "plt.tight_layout()\n",
    "plt.show()"
   ]
  },
  {
   "cell_type": "code",
   "execution_count": 12,
   "metadata": {
    "ExecuteTime": {
     "end_time": "2019-10-04T03:11:00.292124Z",
     "start_time": "2019-10-04T03:11:00.282946Z"
    }
   },
   "outputs": [
    {
     "data": {
      "text/plain": [
       "(26, 373)"
      ]
     },
     "execution_count": 12,
     "metadata": {},
     "output_type": "execute_result"
    }
   ],
   "source": [
    "mfcc.shape"
   ]
  },
  {
   "cell_type": "code",
   "execution_count": 13,
   "metadata": {
    "ExecuteTime": {
     "end_time": "2019-10-04T03:11:16.450387Z",
     "start_time": "2019-10-04T03:11:16.434512Z"
    }
   },
   "outputs": [
    {
     "data": {
      "text/plain": [
       "array([[-488.34485  , -489.1547   , -488.9715   , ..., -488.55423  ,\n",
       "        -488.57883  , -488.37976  ],\n",
       "       [   9.823527 ,    8.693502 ,    8.954304 , ...,    9.542817 ,\n",
       "           9.503304 ,    9.778082 ],\n",
       "       [   9.73657  ,    8.6521225,    8.918114 , ...,    9.501873 ,\n",
       "           9.448142 ,    9.7029705],\n",
       "       ...,\n",
       "       [   2.3575938,    3.7033715,    3.9387789, ...,    3.9667704,\n",
       "           3.907414 ,    3.2667632],\n",
       "       [   2.1021242,    3.4028134,    3.6087759, ...,    3.6084478,\n",
       "           3.6073499,    3.0226364],\n",
       "       [   1.8657069,    3.1054273,    3.282271 , ...,    3.2552888,\n",
       "           3.3079805,    2.7896478]], dtype=float32)"
      ]
     },
     "execution_count": 13,
     "metadata": {},
     "output_type": "execute_result"
    }
   ],
   "source": []
  },
  {
   "cell_type": "code",
   "execution_count": null,
   "metadata": {},
   "outputs": [],
   "source": []
  }
 ],
 "metadata": {
  "hide_input": false,
  "kernelspec": {
   "display_name": "Python 3",
   "language": "python",
   "name": "python3"
  },
  "language_info": {
   "codemirror_mode": {
    "name": "ipython",
    "version": 3
   },
   "file_extension": ".py",
   "mimetype": "text/x-python",
   "name": "python",
   "nbconvert_exporter": "python",
   "pygments_lexer": "ipython3",
   "version": "3.7.3"
  },
  "latex_envs": {
   "LaTeX_envs_menu_present": true,
   "autoclose": false,
   "autocomplete": true,
   "bibliofile": "biblio.bib",
   "cite_by": "apalike",
   "current_citInitial": 1,
   "eqLabelWithNumbers": true,
   "eqNumInitial": 1,
   "hotkeys": {
    "equation": "Ctrl-E",
    "itemize": "Ctrl-I"
   },
   "labels_anchors": false,
   "latex_user_defs": false,
   "report_style_numbering": false,
   "user_envs_cfg": false
  },
  "nbTranslate": {
   "displayLangs": [
    "*"
   ],
   "hotkey": "alt-t",
   "langInMainMenu": true,
   "sourceLang": "en",
   "targetLang": "fr",
   "useGoogleTranslate": true
  },
  "toc": {
   "base_numbering": 1,
   "nav_menu": {},
   "number_sections": true,
   "sideBar": true,
   "skip_h1_title": false,
   "title_cell": "Table of Contents",
   "title_sidebar": "Contents",
   "toc_cell": false,
   "toc_position": {},
   "toc_section_display": true,
   "toc_window_display": false
  },
  "varInspector": {
   "cols": {
    "lenName": 16,
    "lenType": 16,
    "lenVar": 40
   },
   "kernels_config": {
    "python": {
     "delete_cmd_postfix": "",
     "delete_cmd_prefix": "del ",
     "library": "var_list.py",
     "varRefreshCmd": "print(var_dic_list())"
    },
    "r": {
     "delete_cmd_postfix": ") ",
     "delete_cmd_prefix": "rm(",
     "library": "var_list.r",
     "varRefreshCmd": "cat(var_dic_list()) "
    }
   },
   "types_to_exclude": [
    "module",
    "function",
    "builtin_function_or_method",
    "instance",
    "_Feature"
   ],
   "window_display": false
  }
 },
 "nbformat": 4,
 "nbformat_minor": 2
}
